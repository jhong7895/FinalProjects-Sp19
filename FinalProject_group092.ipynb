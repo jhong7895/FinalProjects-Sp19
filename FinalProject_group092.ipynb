{
 "cells": [
  {
   "cell_type": "markdown",
   "metadata": {},
   "source": [
    "# COGS 108 Final : Traffic Fatalities More Common During Certain Time of the Day"
   ]
  },
  {
   "cell_type": "markdown",
   "metadata": {},
   "source": [
    "Names: \n",
    "* Bradley Arca *A13321283*\n",
    "* Jessie Cruz *A13976394*\n",
    "* Jady Hong *A12245090*\n",
    "* Liliana Rivera *A1340241*\n",
    "* Wendy Wu *A13793387*\n",
    "\n",
    "Group Number 92\n"
   ]
  },
  {
   "cell_type": "markdown",
   "metadata": {},
   "source": [
    "## Overview\n",
    "In our study of motor vehicle accidents, we observed various factors that contribute to the frequency of crashes in New York within a three-year window. Such factors include the car model, the year of the model, road conditions, time of day, day of the week, etc. We especially looked at the factor of the time of the day which most crashes occur, and used the various road and light conditions to determine when would there be more crashes, as the light conditions would infer when the accident happened.\n",
    "\n",
    "####  Research Question: \n",
    "Does the period of time of the day affect the number of motor vehicle accidents? Are there other contributing factors? "
   ]
  },
  {
   "cell_type": "markdown",
   "metadata": {},
   "source": [
    "### Hypothesis:\n",
    "We hypothesize a higher number of car accidents during rush hour - generally at 7 A.M. and 5 P.M. This would most likely be due the higher number of cars on the road during these times. Certain road conditions like wet, slippery roads, could be more prone to accidents. "
   ]
  },
  {
   "cell_type": "markdown",
   "metadata": {},
   "source": [
    "### Background Information\n",
    "   Fatalities in motor vehicle crashes is considered to be a public health problem in the United States. Annually, 30,000 Americans die due to crashes, which include the drivers, motorcyclists, cyclists, and pedestrians.(1)  Among the many factors that contribute to traffic fatalities, there seems to be a discussion on whether the traffic laws in place at the present are enough to ensure passenger and pedestrian safety. Some factors that lead to vehicle crashes include the behavior of the driver such as drunk driving, seat belt laws,  vehicle safety, speeding laws, etc. (2)\n",
    " \n",
    " Our data looks at the model types, year, direction of travel, action prior to accident, technical aspects, and the number of passengers in vehicles involved in crashes during the year of 2015 and 2016. Research has shown that across the 50 states in our country, the type of vehicle involved in a crash would differ state to state (3), which puts into perspective the most used vehicle in a certain state can increase the chances of a traffic accident. Likewise, a driver’s actions and behavior play a vital role in the intensity of traffic crashes and the probability of a vehicle crash occurring. Considering the various factors in a vehicle crash, studies have relayed the message of the need to increase safety standards and improve traffic regulations to decrease the amount of deaths due to traffic accidents.\n",
    "References:\n",
    "1. National Highway Traffic Safety Administration. Fatality Analysis Reporting System. Available at:http://www-fars.nhtsa.dot.gov/Main/index.aspx. Accessed April 17, 2019.\n",
    "2. Schmitt, Angie. “Why the U.S. Leads the Developed World on Traffic Deaths.” Available at: https://usa.streetsblog.org/2018/12/13/why-the-u-s-trails-the-developed-world-on-traffic-deaths/ Accessed April 18, 2019\n",
    "3. Insurance Institute for Highway Safety. “Fatality Facts.” Available at: https://www.iihs.org/iihs/topics/t/general-statistics/fatalityfacts/state-by-state-overview Accessed April 17, 2019\n",
    "4. Key data and Statistics|WISQARS|Injury Center|CDC.(2019).Cdc.gov. Available at:https://www.cdc.gov/injury/wisqars/overview/key_data.html\n"
   ]
  },
  {
   "cell_type": "markdown",
   "metadata": {},
   "source": [
    "## Our Data\n",
    "\n",
    "For our hypothesis, we've gathered information from these two sites:\n",
    "* https://www-fars.nhtsa.dot.gov/QueryTool/QuerySection/Report.aspx \n",
    "\n",
    "* https://www.nhtsa.gov/research-data/fatality-analysis-reporting-system-fars\n",
    "\n",
    "US Traffic Fatalities in 2015-2016\n",
    "https://www.kaggle.com/usdot/nhtsa-traffic-fatalities\n",
    "\n",
    "Below are the links to where the datasets were found. The data was published by the State of New York:\n",
    "“Data Collection Methodology All crash reports processed by law enforcement personnel are forwarded to the NYS DMV for processing. Many capture and transmit crash data electronically while others continue to use a paper forms for recording crash data that they then mail to DMV for processing. The NYS Vehicle and Traffic Law require that the parties involved in any crash where injury or death occurred, or property damage in excess of $1,000 results, file a motorist crash report with the DMV. The data files provided contain data received from both the law enforcement and motorist crash reports filed with DMV. ”\n",
    "Since the data was published by the state, the data has been cleaned of any difficult values to handle and “NA” values have been replaced with ‘Unknown’ values, so further investigations are needed to determine what other values have been replaced.\n",
    "\n",
    "Data Sources:\n",
    "\n",
    "Motor Vehicle Crashes - Vehicle Information: Three Year Window \n",
    "\n",
    "https://catalog.data.gov/dataset/motor-vehicle-crashes-vehicle-information-beginning-2009\n",
    "\n",
    "Landing Page: https://data.ny.gov/Transportation/Motor-Vehicle-Crashes-Vehicle-Information-Three-Ye/xe9x-a24f\n",
    "\n",
    "Variables: Year, Case Vehicle ID, Vehicle Body Type, Registration Class, Action Prior to Accident, Type/Axles of Truck or Bus, Direction of Travel, Fuel Type, Vehicle Year, State of Registration, Number of Occupants, Engine Cylinders, Vehicle Make, Contributing Factor(s), Event Type, and Partial VIN.\n",
    "\n",
    "\n",
    "Motor Vehicle Crashes - Case Information: Three Year Window \n",
    "\n",
    "https://catalog.data.gov/dataset/motor-vehicle-crashes-case-information-beginning-2009\n",
    "\n",
    "Landing Page: https://data.ny.gov/Transportation/Motor-Vehicle-Crashes-Case-Information-Three-Year-/e8ky-4vqe\n",
    "\n",
    "Variables include: Year, Crash Descriptor, Time, Date, Day of Week, Police Report, Lighting Conditions, Municipality, Collision Type Descriptor, County Name, Road Descriptor, Weather Conditions, Traffic Control Device, Road Surface Conditions, DOT Reference Marker Location, Pedestrian Bicyclist Action, Event Descriptor, Number of Vehicles Involved.\n"
   ]
  },
  {
   "cell_type": "markdown",
   "metadata": {},
   "source": [
    "# Datasets"
   ]
  },
  {
   "cell_type": "code",
   "execution_count": 1,
   "metadata": {},
   "outputs": [],
   "source": [
    "# Import standard libraries\n",
    "%matplotlib inline\n",
    "import pandas as pd\n",
    "import numpy as np\n",
    "import matplotlib.pyplot as plt\n",
    "import seaborn as sns"
   ]
  },
  {
   "cell_type": "code",
   "execution_count": 2,
   "metadata": {},
   "outputs": [
    {
     "name": "stdout",
     "output_type": "stream",
     "text": [
      "Motor_Vehicle_Crashes_-_Case_Information__Three_Year_Window.csv\r\n",
      "Motor_Vehicle_Crashes_-_Vehicle_Information__Three_Year_Window.csv\r\n",
      "data_wrangling-3.ipynb\r\n",
      "data_wrangling.ipynb\r\n"
     ]
    }
   ],
   "source": [
    "%ls"
   ]
  },
  {
   "cell_type": "markdown",
   "metadata": {},
   "source": [
    "# Data Cleaning/Pre-processing"
   ]
  },
  {
   "cell_type": "markdown",
   "metadata": {},
   "source": [
    "# Reading Vehicle Information "
   ]
  },
  {
   "cell_type": "code",
   "execution_count": 3,
   "metadata": {},
   "outputs": [],
   "source": [
    "vehicle_info =  pd.read_csv('Motor_Vehicle_Crashes_-_Vehicle_Information__Three_Year_Window.csv')"
   ]
  },
  {
   "cell_type": "code",
   "execution_count": 4,
   "metadata": {},
   "outputs": [
    {
     "data": {
      "text/plain": [
       "(1048575, 19)"
      ]
     },
     "execution_count": 4,
     "metadata": {},
     "output_type": "execute_result"
    }
   ],
   "source": [
    "vehicle_info.shape"
   ]
  },
  {
   "cell_type": "code",
   "execution_count": 5,
   "metadata": {},
   "outputs": [
    {
     "data": {
      "text/html": [
       "<div>\n",
       "<style scoped>\n",
       "    .dataframe tbody tr th:only-of-type {\n",
       "        vertical-align: middle;\n",
       "    }\n",
       "\n",
       "    .dataframe tbody tr th {\n",
       "        vertical-align: top;\n",
       "    }\n",
       "\n",
       "    .dataframe thead th {\n",
       "        text-align: right;\n",
       "    }\n",
       "</style>\n",
       "<table border=\"1\" class=\"dataframe\">\n",
       "  <thead>\n",
       "    <tr style=\"text-align: right;\">\n",
       "      <th></th>\n",
       "      <th>Year</th>\n",
       "      <th>Case Vehicle ID</th>\n",
       "      <th>Vehicle Body Type</th>\n",
       "      <th>Registration Class</th>\n",
       "      <th>Action Prior to Accident</th>\n",
       "      <th>Type / Axles of Truck or Bus</th>\n",
       "      <th>Direction of Travel</th>\n",
       "      <th>Fuel Type</th>\n",
       "      <th>Vehicle Year</th>\n",
       "      <th>State of Registration</th>\n",
       "      <th>Number of Occupants</th>\n",
       "      <th>Engine Cylinders</th>\n",
       "      <th>Vehicle Make</th>\n",
       "      <th>Contributing Factor 1</th>\n",
       "      <th>Contributing Factor 1 Description</th>\n",
       "      <th>Contributing Factor 2</th>\n",
       "      <th>Contributing Factor 2 Description</th>\n",
       "      <th>Event Type</th>\n",
       "      <th>Partial VIN</th>\n",
       "    </tr>\n",
       "  </thead>\n",
       "  <tbody>\n",
       "    <tr>\n",
       "      <th>0</th>\n",
       "      <td>2016</td>\n",
       "      <td>13364180</td>\n",
       "      <td>SUBURBAN</td>\n",
       "      <td>PASSENGER OR SUBURBAN</td>\n",
       "      <td>Going Straight Ahead</td>\n",
       "      <td>Not Entered</td>\n",
       "      <td>East</td>\n",
       "      <td>Gas</td>\n",
       "      <td>2015.0</td>\n",
       "      <td>NY</td>\n",
       "      <td>2.0</td>\n",
       "      <td>4.0</td>\n",
       "      <td>NISSA</td>\n",
       "      <td>HUMAN</td>\n",
       "      <td>Fell Asleep</td>\n",
       "      <td>HUMAN</td>\n",
       "      <td>Unknown</td>\n",
       "      <td>Not Applicable</td>\n",
       "      <td>KNMAT2MV1FP544486</td>\n",
       "    </tr>\n",
       "    <tr>\n",
       "      <th>1</th>\n",
       "      <td>2016</td>\n",
       "      <td>13364181</td>\n",
       "      <td>4 DOOR SEDAN</td>\n",
       "      <td>PASSENGER OR SUBURBAN</td>\n",
       "      <td>Merging</td>\n",
       "      <td>Not Entered</td>\n",
       "      <td>South</td>\n",
       "      <td>Gas</td>\n",
       "      <td>2007.0</td>\n",
       "      <td>NY</td>\n",
       "      <td>1.0</td>\n",
       "      <td>4.0</td>\n",
       "      <td>HYUND</td>\n",
       "      <td>HUMAN</td>\n",
       "      <td>Alcohol Involvement</td>\n",
       "      <td>HUMAN</td>\n",
       "      <td>Not Applicable</td>\n",
       "      <td>Not Entered</td>\n",
       "      <td>5NPET46C87H227617</td>\n",
       "    </tr>\n",
       "    <tr>\n",
       "      <th>2</th>\n",
       "      <td>2016</td>\n",
       "      <td>13364182</td>\n",
       "      <td>4 DOOR SEDAN</td>\n",
       "      <td>PASSENGER OR SUBURBAN</td>\n",
       "      <td>Going Straight Ahead</td>\n",
       "      <td>Not Entered</td>\n",
       "      <td>South</td>\n",
       "      <td>Gas</td>\n",
       "      <td>2009.0</td>\n",
       "      <td>NY</td>\n",
       "      <td>1.0</td>\n",
       "      <td>4.0</td>\n",
       "      <td>HONDA</td>\n",
       "      <td>HUMAN</td>\n",
       "      <td>Not Applicable</td>\n",
       "      <td>HUMAN</td>\n",
       "      <td>Not Applicable</td>\n",
       "      <td>Not Entered</td>\n",
       "      <td>1HGCP26379A133398</td>\n",
       "    </tr>\n",
       "    <tr>\n",
       "      <th>3</th>\n",
       "      <td>2016</td>\n",
       "      <td>13364283</td>\n",
       "      <td>4 DOOR SEDAN</td>\n",
       "      <td>PASSENGER OR SUBURBAN</td>\n",
       "      <td>Going Straight Ahead</td>\n",
       "      <td>Not Entered</td>\n",
       "      <td>North</td>\n",
       "      <td>Gas</td>\n",
       "      <td>2007.0</td>\n",
       "      <td>NY</td>\n",
       "      <td>1.0</td>\n",
       "      <td>4.0</td>\n",
       "      <td>DODGE</td>\n",
       "      <td>ENVMT</td>\n",
       "      <td>Pavement Slippery</td>\n",
       "      <td>HUMAN</td>\n",
       "      <td>Not Applicable</td>\n",
       "      <td>Not Applicable</td>\n",
       "      <td>1B3HB28B37D582730</td>\n",
       "    </tr>\n",
       "    <tr>\n",
       "      <th>4</th>\n",
       "      <td>2016</td>\n",
       "      <td>13364291</td>\n",
       "      <td>SUBURBAN</td>\n",
       "      <td>PASSENGER OR SUBURBAN</td>\n",
       "      <td>Changing Lanes</td>\n",
       "      <td>Not Entered</td>\n",
       "      <td>West</td>\n",
       "      <td>Gas</td>\n",
       "      <td>2012.0</td>\n",
       "      <td>NY</td>\n",
       "      <td>1.0</td>\n",
       "      <td>4.0</td>\n",
       "      <td>MINI</td>\n",
       "      <td>HUMAN</td>\n",
       "      <td>Unsafe Lane Changing</td>\n",
       "      <td>HUMAN</td>\n",
       "      <td>Not Applicable</td>\n",
       "      <td>Not Applicable</td>\n",
       "      <td>WMWZC3C57CWL81108</td>\n",
       "    </tr>\n",
       "  </tbody>\n",
       "</table>\n",
       "</div>"
      ],
      "text/plain": [
       "   Year  Case Vehicle ID Vehicle Body Type     Registration Class  \\\n",
       "0  2016         13364180          SUBURBAN  PASSENGER OR SUBURBAN   \n",
       "1  2016         13364181      4 DOOR SEDAN  PASSENGER OR SUBURBAN   \n",
       "2  2016         13364182      4 DOOR SEDAN  PASSENGER OR SUBURBAN   \n",
       "3  2016         13364283      4 DOOR SEDAN  PASSENGER OR SUBURBAN   \n",
       "4  2016         13364291          SUBURBAN  PASSENGER OR SUBURBAN   \n",
       "\n",
       "  Action Prior to Accident Type / Axles of Truck or Bus Direction of Travel  \\\n",
       "0     Going Straight Ahead                  Not Entered                East   \n",
       "1                  Merging                  Not Entered               South   \n",
       "2     Going Straight Ahead                  Not Entered               South   \n",
       "3     Going Straight Ahead                  Not Entered               North   \n",
       "4           Changing Lanes                  Not Entered                West   \n",
       "\n",
       "  Fuel Type  Vehicle Year State of Registration  Number of Occupants  \\\n",
       "0       Gas        2015.0                    NY                  2.0   \n",
       "1       Gas        2007.0                    NY                  1.0   \n",
       "2       Gas        2009.0                    NY                  1.0   \n",
       "3       Gas        2007.0                    NY                  1.0   \n",
       "4       Gas        2012.0                    NY                  1.0   \n",
       "\n",
       "   Engine Cylinders Vehicle Make Contributing Factor 1  \\\n",
       "0               4.0        NISSA                 HUMAN   \n",
       "1               4.0        HYUND                 HUMAN   \n",
       "2               4.0        HONDA                 HUMAN   \n",
       "3               4.0        DODGE                 ENVMT   \n",
       "4               4.0         MINI                 HUMAN   \n",
       "\n",
       "  Contributing Factor 1 Description Contributing Factor 2  \\\n",
       "0                       Fell Asleep                 HUMAN   \n",
       "1               Alcohol Involvement                 HUMAN   \n",
       "2                    Not Applicable                 HUMAN   \n",
       "3                 Pavement Slippery                 HUMAN   \n",
       "4              Unsafe Lane Changing                 HUMAN   \n",
       "\n",
       "  Contributing Factor 2 Description      Event Type        Partial VIN  \n",
       "0                           Unknown  Not Applicable  KNMAT2MV1FP544486  \n",
       "1                    Not Applicable     Not Entered  5NPET46C87H227617  \n",
       "2                    Not Applicable     Not Entered  1HGCP26379A133398  \n",
       "3                    Not Applicable  Not Applicable  1B3HB28B37D582730  \n",
       "4                    Not Applicable  Not Applicable  WMWZC3C57CWL81108  "
      ]
     },
     "execution_count": 5,
     "metadata": {},
     "output_type": "execute_result"
    }
   ],
   "source": [
    "vehicle_info.head()"
   ]
  },
  {
   "cell_type": "markdown",
   "metadata": {},
   "source": [
    "# Reading Case Information"
   ]
  },
  {
   "cell_type": "code",
   "execution_count": 6,
   "metadata": {},
   "outputs": [],
   "source": [
    "case_info = pd.read_csv('Motor_Vehicle_Crashes_-_Case_Information__Three_Year_Window.csv')"
   ]
  },
  {
   "cell_type": "code",
   "execution_count": 7,
   "metadata": {},
   "outputs": [
    {
     "data": {
      "text/plain": [
       "(895916, 18)"
      ]
     },
     "execution_count": 7,
     "metadata": {},
     "output_type": "execute_result"
    }
   ],
   "source": [
    "case_info.shape ## number of observations"
   ]
  },
  {
   "cell_type": "code",
   "execution_count": 8,
   "metadata": {
    "scrolled": true
   },
   "outputs": [
    {
     "data": {
      "text/html": [
       "<div>\n",
       "<style scoped>\n",
       "    .dataframe tbody tr th:only-of-type {\n",
       "        vertical-align: middle;\n",
       "    }\n",
       "\n",
       "    .dataframe tbody tr th {\n",
       "        vertical-align: top;\n",
       "    }\n",
       "\n",
       "    .dataframe thead th {\n",
       "        text-align: right;\n",
       "    }\n",
       "</style>\n",
       "<table border=\"1\" class=\"dataframe\">\n",
       "  <thead>\n",
       "    <tr style=\"text-align: right;\">\n",
       "      <th></th>\n",
       "      <th>Year</th>\n",
       "      <th>Crash Descriptor</th>\n",
       "      <th>Time</th>\n",
       "      <th>Date</th>\n",
       "      <th>Day of Week</th>\n",
       "      <th>Police Report</th>\n",
       "      <th>Lighting Conditions</th>\n",
       "      <th>Municipality</th>\n",
       "      <th>Collision Type Descriptor</th>\n",
       "      <th>County Name</th>\n",
       "      <th>Road Descriptor</th>\n",
       "      <th>Weather Conditions</th>\n",
       "      <th>Traffic Control Device</th>\n",
       "      <th>Road Surface Conditions</th>\n",
       "      <th>DOT Reference Marker Location</th>\n",
       "      <th>Pedestrian Bicyclist Action</th>\n",
       "      <th>Event Descriptor</th>\n",
       "      <th>Number of Vehicles Involved</th>\n",
       "    </tr>\n",
       "  </thead>\n",
       "  <tbody>\n",
       "    <tr>\n",
       "      <th>0</th>\n",
       "      <td>2016</td>\n",
       "      <td>Property Damage Accident</td>\n",
       "      <td>17:14</td>\n",
       "      <td>12/31/2016</td>\n",
       "      <td>Saturday</td>\n",
       "      <td>Y</td>\n",
       "      <td>Dark-Road Unlighted</td>\n",
       "      <td>MARTINSBURG</td>\n",
       "      <td>OTHER</td>\n",
       "      <td>LEWIS</td>\n",
       "      <td>Curve and Grade</td>\n",
       "      <td>Cloudy</td>\n",
       "      <td>None</td>\n",
       "      <td>Wet</td>\n",
       "      <td>26 74061244</td>\n",
       "      <td>Not Applicable</td>\n",
       "      <td>Deer</td>\n",
       "      <td>1</td>\n",
       "    </tr>\n",
       "    <tr>\n",
       "      <th>1</th>\n",
       "      <td>2016</td>\n",
       "      <td>Property Damage Accident</td>\n",
       "      <td>5:30</td>\n",
       "      <td>12/31/2016</td>\n",
       "      <td>Saturday</td>\n",
       "      <td>Y</td>\n",
       "      <td>Dark-Road Unlighted</td>\n",
       "      <td>BROOKHAVEN</td>\n",
       "      <td>SIDESWIPE</td>\n",
       "      <td>SUFFOLK</td>\n",
       "      <td>Straight and Level</td>\n",
       "      <td>Clear</td>\n",
       "      <td>None</td>\n",
       "      <td>Dry</td>\n",
       "      <td>NaN</td>\n",
       "      <td>Not Applicable</td>\n",
       "      <td>Other Motor Vehicle, Collision With</td>\n",
       "      <td>2</td>\n",
       "    </tr>\n",
       "    <tr>\n",
       "      <th>2</th>\n",
       "      <td>2016</td>\n",
       "      <td>Property Damage &amp; Injury Accident</td>\n",
       "      <td>11:02</td>\n",
       "      <td>12/31/2016</td>\n",
       "      <td>Saturday</td>\n",
       "      <td>Y</td>\n",
       "      <td>Daylight</td>\n",
       "      <td>MILFORD</td>\n",
       "      <td>LEFT TURN (3)</td>\n",
       "      <td>OTSEGO</td>\n",
       "      <td>Straight and Level</td>\n",
       "      <td>Cloudy</td>\n",
       "      <td>No Passing Zone</td>\n",
       "      <td>Wet</td>\n",
       "      <td>7 94033029</td>\n",
       "      <td>Not Applicable</td>\n",
       "      <td>Other Motor Vehicle, Collision With</td>\n",
       "      <td>2</td>\n",
       "    </tr>\n",
       "    <tr>\n",
       "      <th>3</th>\n",
       "      <td>2016</td>\n",
       "      <td>Injury Accident</td>\n",
       "      <td>15:20</td>\n",
       "      <td>12/31/2016</td>\n",
       "      <td>Saturday</td>\n",
       "      <td>N</td>\n",
       "      <td>Unknown</td>\n",
       "      <td>KINGS</td>\n",
       "      <td>Unknown</td>\n",
       "      <td>KINGS</td>\n",
       "      <td>Unknown</td>\n",
       "      <td>Unknown</td>\n",
       "      <td>Unknown</td>\n",
       "      <td>Unknown</td>\n",
       "      <td>NaN</td>\n",
       "      <td>Not Applicable</td>\n",
       "      <td>Other Motor Vehicle, Collision With</td>\n",
       "      <td>2</td>\n",
       "    </tr>\n",
       "    <tr>\n",
       "      <th>4</th>\n",
       "      <td>2016</td>\n",
       "      <td>Property Damage Accident</td>\n",
       "      <td>8:52</td>\n",
       "      <td>12/31/2016</td>\n",
       "      <td>Saturday</td>\n",
       "      <td>Y</td>\n",
       "      <td>Daylight</td>\n",
       "      <td>RENSSELAER</td>\n",
       "      <td>LEFT TURN (3)</td>\n",
       "      <td>RENSSELAER</td>\n",
       "      <td>Straight and Grade</td>\n",
       "      <td>Clear</td>\n",
       "      <td>Traffic Signal</td>\n",
       "      <td>Dry</td>\n",
       "      <td>NaN</td>\n",
       "      <td>Not Applicable</td>\n",
       "      <td>Other Motor Vehicle, Collision With</td>\n",
       "      <td>2</td>\n",
       "    </tr>\n",
       "  </tbody>\n",
       "</table>\n",
       "</div>"
      ],
      "text/plain": [
       "   Year                   Crash Descriptor   Time        Date Day of Week  \\\n",
       "0  2016           Property Damage Accident  17:14  12/31/2016    Saturday   \n",
       "1  2016           Property Damage Accident   5:30  12/31/2016    Saturday   \n",
       "2  2016  Property Damage & Injury Accident  11:02  12/31/2016    Saturday   \n",
       "3  2016                    Injury Accident  15:20  12/31/2016    Saturday   \n",
       "4  2016           Property Damage Accident   8:52  12/31/2016    Saturday   \n",
       "\n",
       "  Police Report  Lighting Conditions Municipality Collision Type Descriptor  \\\n",
       "0             Y  Dark-Road Unlighted  MARTINSBURG                     OTHER   \n",
       "1             Y  Dark-Road Unlighted   BROOKHAVEN                 SIDESWIPE   \n",
       "2             Y             Daylight      MILFORD             LEFT TURN (3)   \n",
       "3             N              Unknown        KINGS                   Unknown   \n",
       "4             Y             Daylight   RENSSELAER             LEFT TURN (3)   \n",
       "\n",
       "  County Name     Road Descriptor Weather Conditions Traffic Control Device  \\\n",
       "0       LEWIS     Curve and Grade             Cloudy                   None   \n",
       "1     SUFFOLK  Straight and Level              Clear                   None   \n",
       "2      OTSEGO  Straight and Level             Cloudy        No Passing Zone   \n",
       "3       KINGS             Unknown            Unknown                Unknown   \n",
       "4  RENSSELAER  Straight and Grade              Clear         Traffic Signal   \n",
       "\n",
       "  Road Surface Conditions DOT Reference Marker Location  \\\n",
       "0                     Wet                   26 74061244   \n",
       "1                     Dry                           NaN   \n",
       "2                     Wet                    7 94033029   \n",
       "3                 Unknown                           NaN   \n",
       "4                     Dry                           NaN   \n",
       "\n",
       "  Pedestrian Bicyclist Action                     Event Descriptor  \\\n",
       "0              Not Applicable                                 Deer   \n",
       "1              Not Applicable  Other Motor Vehicle, Collision With   \n",
       "2              Not Applicable  Other Motor Vehicle, Collision With   \n",
       "3              Not Applicable  Other Motor Vehicle, Collision With   \n",
       "4              Not Applicable  Other Motor Vehicle, Collision With   \n",
       "\n",
       "   Number of Vehicles Involved  \n",
       "0                            1  \n",
       "1                            2  \n",
       "2                            2  \n",
       "3                            2  \n",
       "4                            2  "
      ]
     },
     "execution_count": 8,
     "metadata": {},
     "output_type": "execute_result"
    }
   ],
   "source": [
    "case_info.head()"
   ]
  },
  {
   "cell_type": "markdown",
   "metadata": {},
   "source": [
    "# Vehicle Year"
   ]
  },
  {
   "cell_type": "markdown",
   "metadata": {},
   "source": [
    "Find the unique values of the years (sorted) and print them out."
   ]
  },
  {
   "cell_type": "code",
   "execution_count": 9,
   "metadata": {},
   "outputs": [
    {
     "data": {
      "text/plain": [
       "array([1900., 1901., 1905., 1906., 1907., 1908., 1909., 1910., 1911.,\n",
       "       1914., 1915., 1916., 1919., 1920., 1923., 1929., 1930., 1932.,\n",
       "       1934., 1935., 1936., 1937., 1938., 1939., 1940., 1941., 1946.,\n",
       "       1947., 1948., 1950., 1951., 1952., 1953., 1954., 1955., 1956.,\n",
       "       1957., 1958., 1959., 1960., 1961., 1962., 1963., 1964., 1965.,\n",
       "       1966., 1967., 1968., 1969., 1970., 1971., 1972., 1973., 1974.,\n",
       "       1975., 1976., 1977., 1978., 1979., 1980., 1981., 1982., 1983.,\n",
       "       1984., 1985., 1986., 1987., 1988., 1989., 1990., 1991., 1992.,\n",
       "       1993., 1994., 1995., 1996., 1997., 1998., 1999., 2000., 2001.,\n",
       "       2002., 2003., 2004., 2005., 2006., 2007., 2008., 2009., 2010.,\n",
       "       2011., 2012., 2013., 2014., 2015., 2016., 2017.,   nan])"
      ]
     },
     "execution_count": 9,
     "metadata": {},
     "output_type": "execute_result"
    }
   ],
   "source": [
    "np.sort(vehicle_info['Vehicle Year'].unique())"
   ]
  },
  {
   "cell_type": "code",
   "execution_count": 10,
   "metadata": {},
   "outputs": [
    {
     "data": {
      "text/plain": [
       "894491"
      ]
     },
     "execution_count": 10,
     "metadata": {},
     "output_type": "execute_result"
    }
   ],
   "source": [
    "vehicle_year = pd.DataFrame(vehicle_info['Vehicle Year'].value_counts())\n",
    "vehicle_year.columns = ['Count']\n",
    "sum(vehicle_year['Count'])"
   ]
  },
  {
   "cell_type": "code",
   "execution_count": 11,
   "metadata": {},
   "outputs": [
    {
     "data": {
      "text/html": [
       "<div>\n",
       "<style scoped>\n",
       "    .dataframe tbody tr th:only-of-type {\n",
       "        vertical-align: middle;\n",
       "    }\n",
       "\n",
       "    .dataframe tbody tr th {\n",
       "        vertical-align: top;\n",
       "    }\n",
       "\n",
       "    .dataframe thead th {\n",
       "        text-align: right;\n",
       "    }\n",
       "</style>\n",
       "<table border=\"1\" class=\"dataframe\">\n",
       "  <thead>\n",
       "    <tr style=\"text-align: right;\">\n",
       "      <th></th>\n",
       "      <th>Count</th>\n",
       "    </tr>\n",
       "  </thead>\n",
       "  <tbody>\n",
       "    <tr>\n",
       "      <th>2014.0</th>\n",
       "      <td>79922</td>\n",
       "    </tr>\n",
       "    <tr>\n",
       "      <th>2015.0</th>\n",
       "      <td>76439</td>\n",
       "    </tr>\n",
       "    <tr>\n",
       "      <th>2013.0</th>\n",
       "      <td>70350</td>\n",
       "    </tr>\n",
       "    <tr>\n",
       "      <th>2012.0</th>\n",
       "      <td>59586</td>\n",
       "    </tr>\n",
       "    <tr>\n",
       "      <th>2008.0</th>\n",
       "      <td>52115</td>\n",
       "    </tr>\n",
       "    <tr>\n",
       "      <th>2011.0</th>\n",
       "      <td>51652</td>\n",
       "    </tr>\n",
       "    <tr>\n",
       "      <th>2007.0</th>\n",
       "      <td>51364</td>\n",
       "    </tr>\n",
       "    <tr>\n",
       "      <th>2005.0</th>\n",
       "      <td>48364</td>\n",
       "    </tr>\n",
       "    <tr>\n",
       "      <th>2006.0</th>\n",
       "      <td>48138</td>\n",
       "    </tr>\n",
       "    <tr>\n",
       "      <th>2010.0</th>\n",
       "      <td>47576</td>\n",
       "    </tr>\n",
       "  </tbody>\n",
       "</table>\n",
       "</div>"
      ],
      "text/plain": [
       "        Count\n",
       "2014.0  79922\n",
       "2015.0  76439\n",
       "2013.0  70350\n",
       "2012.0  59586\n",
       "2008.0  52115\n",
       "2011.0  51652\n",
       "2007.0  51364\n",
       "2005.0  48364\n",
       "2006.0  48138\n",
       "2010.0  47576"
      ]
     },
     "execution_count": 11,
     "metadata": {},
     "output_type": "execute_result"
    }
   ],
   "source": [
    "vehicle_year.head(10)"
   ]
  },
  {
   "cell_type": "markdown",
   "metadata": {},
   "source": [
    "# Vehicle Make"
   ]
  },
  {
   "cell_type": "code",
   "execution_count": 12,
   "metadata": {},
   "outputs": [
    {
     "data": {
      "text/html": [
       "<div>\n",
       "<style scoped>\n",
       "    .dataframe tbody tr th:only-of-type {\n",
       "        vertical-align: middle;\n",
       "    }\n",
       "\n",
       "    .dataframe tbody tr th {\n",
       "        vertical-align: top;\n",
       "    }\n",
       "\n",
       "    .dataframe thead th {\n",
       "        text-align: right;\n",
       "    }\n",
       "</style>\n",
       "<table border=\"1\" class=\"dataframe\">\n",
       "  <thead>\n",
       "    <tr style=\"text-align: right;\">\n",
       "      <th></th>\n",
       "      <th>Count</th>\n",
       "    </tr>\n",
       "  </thead>\n",
       "  <tbody>\n",
       "    <tr>\n",
       "      <th>TOYOT</th>\n",
       "      <td>105479</td>\n",
       "    </tr>\n",
       "    <tr>\n",
       "      <th>FORD</th>\n",
       "      <td>96574</td>\n",
       "    </tr>\n",
       "    <tr>\n",
       "      <th>HONDA</th>\n",
       "      <td>92601</td>\n",
       "    </tr>\n",
       "    <tr>\n",
       "      <th>CHEVR</th>\n",
       "      <td>87765</td>\n",
       "    </tr>\n",
       "    <tr>\n",
       "      <th>NISSA</th>\n",
       "      <td>68393</td>\n",
       "    </tr>\n",
       "    <tr>\n",
       "      <th>JEEP</th>\n",
       "      <td>38476</td>\n",
       "    </tr>\n",
       "    <tr>\n",
       "      <th>HYUND</th>\n",
       "      <td>36758</td>\n",
       "    </tr>\n",
       "    <tr>\n",
       "      <th>DODGE</th>\n",
       "      <td>36590</td>\n",
       "    </tr>\n",
       "    <tr>\n",
       "      <th>SUBAR</th>\n",
       "      <td>23618</td>\n",
       "    </tr>\n",
       "    <tr>\n",
       "      <th>BMW</th>\n",
       "      <td>18055</td>\n",
       "    </tr>\n",
       "  </tbody>\n",
       "</table>\n",
       "</div>"
      ],
      "text/plain": [
       "        Count\n",
       "TOYOT  105479\n",
       "FORD    96574\n",
       "HONDA   92601\n",
       "CHEVR   87765\n",
       "NISSA   68393\n",
       "JEEP    38476\n",
       "HYUND   36758\n",
       "DODGE   36590\n",
       "SUBAR   23618\n",
       "BMW     18055"
      ]
     },
     "execution_count": 12,
     "metadata": {},
     "output_type": "execute_result"
    }
   ],
   "source": [
    "vehicle_make = pd.DataFrame(vehicle_info['Vehicle Make'].value_counts())\n",
    "vehicle_make.columns = ['Count']\n",
    "vehicle_make.head(10)"
   ]
  },
  {
   "cell_type": "markdown",
   "metadata": {},
   "source": [
    "Toyota drivers seem to get into the most amount of accidents. However we do not have sufficient data to make a claim about the correlation of vehicle makes versus number of accidents. To better guage this correlation, we would need to normalize the data - comparing not just the number of accidents per vehicle type, but the quantity of each vehicle type in circulation."
   ]
  },
  {
   "cell_type": "markdown",
   "metadata": {},
   "source": [
    "# Event Type\n",
    "\n",
    "We will be removing rows with counts less than 200."
   ]
  },
  {
   "cell_type": "code",
   "execution_count": 13,
   "metadata": {},
   "outputs": [],
   "source": [
    "vehicle_info = vehicle_info[vehicle_info['Event Type'] != 'Crash Cushion, Collision With Fixed Object']\n",
    "vehicle_info = vehicle_info[vehicle_info['Event Type'] != 'Animal, Collision With']\n",
    "vehicle_info = vehicle_info[vehicle_info['Event Type'] != 'Fire/Explosion, Non-Collision']\n",
    "vehicle_info = vehicle_info[vehicle_info['Event Type'] != 'Submersion, Non-Collision']\n",
    "vehicle_info = vehicle_info[vehicle_info['Event Type'] != 'Median - End, Collision With Fixed Object']\n",
    "vehicle_info = vehicle_info[vehicle_info['Event Type'] != 'Other Pedestrian']\n",
    "vehicle_info = vehicle_info[vehicle_info['Event Type'] != 'Ran Off Roadway Only, Non-Collision']\n",
    "vehicle_info = vehicle_info[vehicle_info['Event Type'] != 'Railroad Train, Collision With']\n",
    "vehicle_info = vehicle_info[vehicle_info['Event Type'] != 'In-Line Skater, Collision With']\n",
    "vehicle_info = vehicle_info[vehicle_info['Event Type'] != 'Unknown']"
   ]
  },
  {
   "cell_type": "code",
   "execution_count": 14,
   "metadata": {},
   "outputs": [
    {
     "data": {
      "text/html": [
       "<div>\n",
       "<style scoped>\n",
       "    .dataframe tbody tr th:only-of-type {\n",
       "        vertical-align: middle;\n",
       "    }\n",
       "\n",
       "    .dataframe tbody tr th {\n",
       "        vertical-align: top;\n",
       "    }\n",
       "\n",
       "    .dataframe thead th {\n",
       "        text-align: right;\n",
       "    }\n",
       "</style>\n",
       "<table border=\"1\" class=\"dataframe\">\n",
       "  <thead>\n",
       "    <tr style=\"text-align: right;\">\n",
       "      <th></th>\n",
       "      <th>Count</th>\n",
       "    </tr>\n",
       "  </thead>\n",
       "  <tbody>\n",
       "    <tr>\n",
       "      <th>Not Applicable</th>\n",
       "      <td>590685</td>\n",
       "    </tr>\n",
       "    <tr>\n",
       "      <th>Not Entered</th>\n",
       "      <td>328586</td>\n",
       "    </tr>\n",
       "    <tr>\n",
       "      <th>Other Motor Vehicle, Collision With</th>\n",
       "      <td>54865</td>\n",
       "    </tr>\n",
       "    <tr>\n",
       "      <th>Tree, Collision With Fixed Object</th>\n",
       "      <td>6049</td>\n",
       "    </tr>\n",
       "    <tr>\n",
       "      <th>Earth Embankment/Rock Cut/Ditch, Collision With Fixed Object</th>\n",
       "      <td>5085</td>\n",
       "    </tr>\n",
       "    <tr>\n",
       "      <th>Guide Rail - Not At End, Collision With Fixed Object</th>\n",
       "      <td>4772</td>\n",
       "    </tr>\n",
       "    <tr>\n",
       "      <th>Light Support/Utility Pole, Collision With Fixed Object</th>\n",
       "      <td>4565</td>\n",
       "    </tr>\n",
       "    <tr>\n",
       "      <th>Overturned, Non-Collision</th>\n",
       "      <td>4104</td>\n",
       "    </tr>\n",
       "    <tr>\n",
       "      <th>Pedestrian, Collision With</th>\n",
       "      <td>3112</td>\n",
       "    </tr>\n",
       "    <tr>\n",
       "      <th>Other Fixed Object*, Collision With Fixed Object</th>\n",
       "      <td>3000</td>\n",
       "    </tr>\n",
       "    <tr>\n",
       "      <th>Sign Post, Collision With Fixed Object</th>\n",
       "      <td>2907</td>\n",
       "    </tr>\n",
       "    <tr>\n",
       "      <th>Curbing, Collision With Fixed Object</th>\n",
       "      <td>2377</td>\n",
       "    </tr>\n",
       "    <tr>\n",
       "      <th>Fence, Collision With Fixed Object</th>\n",
       "      <td>1989</td>\n",
       "    </tr>\n",
       "    <tr>\n",
       "      <th>Building/Wall, Collision With Fixed Object</th>\n",
       "      <td>1874</td>\n",
       "    </tr>\n",
       "    <tr>\n",
       "      <th>Snow Embankment, Collision With Fixed Object</th>\n",
       "      <td>1631</td>\n",
       "    </tr>\n",
       "    <tr>\n",
       "      <th>Barrier, Collision With Fixed Object</th>\n",
       "      <td>1094</td>\n",
       "    </tr>\n",
       "    <tr>\n",
       "      <th>Other Object (Not Fixed)*, Collision With</th>\n",
       "      <td>957</td>\n",
       "    </tr>\n",
       "    <tr>\n",
       "      <th>Median - Not At End, Collision With Fixed Object</th>\n",
       "      <td>857</td>\n",
       "    </tr>\n",
       "    <tr>\n",
       "      <th>Bicyclist, Collision With</th>\n",
       "      <td>845</td>\n",
       "    </tr>\n",
       "    <tr>\n",
       "      <th>Fire Hydrant, Collision With Fixed Object</th>\n",
       "      <td>498</td>\n",
       "    </tr>\n",
       "    <tr>\n",
       "      <th>Guide Rail - End, Collision With Fixed Object</th>\n",
       "      <td>434</td>\n",
       "    </tr>\n",
       "    <tr>\n",
       "      <th>Culver/Head Wall, Collision With Fixed Object</th>\n",
       "      <td>373</td>\n",
       "    </tr>\n",
       "    <tr>\n",
       "      <th>Other*, Non-Collision</th>\n",
       "      <td>329</td>\n",
       "    </tr>\n",
       "    <tr>\n",
       "      <th>Deer</th>\n",
       "      <td>228</td>\n",
       "    </tr>\n",
       "    <tr>\n",
       "      <th>Bridge Structure, Collision With Fixed Object</th>\n",
       "      <td>221</td>\n",
       "    </tr>\n",
       "  </tbody>\n",
       "</table>\n",
       "</div>"
      ],
      "text/plain": [
       "                                                     Count\n",
       "Not Applicable                                      590685\n",
       "Not Entered                                         328586\n",
       "Other Motor Vehicle, Collision With                  54865\n",
       "Tree, Collision With Fixed Object                     6049\n",
       "Earth Embankment/Rock Cut/Ditch, Collision With...    5085\n",
       "Guide Rail - Not At End, Collision With Fixed O...    4772\n",
       "Light Support/Utility Pole, Collision With Fixe...    4565\n",
       "Overturned, Non-Collision                             4104\n",
       "Pedestrian, Collision With                            3112\n",
       "Other Fixed Object*, Collision With Fixed Object      3000\n",
       "Sign Post, Collision With Fixed Object                2907\n",
       "Curbing, Collision With Fixed Object                  2377\n",
       "Fence, Collision With Fixed Object                    1989\n",
       "Building/Wall, Collision With Fixed Object            1874\n",
       "Snow Embankment, Collision With Fixed Object          1631\n",
       "Barrier, Collision With Fixed Object                  1094\n",
       "Other Object (Not Fixed)*, Collision With              957\n",
       "Median - Not At End, Collision With Fixed Object       857\n",
       "Bicyclist, Collision With                              845\n",
       "Fire Hydrant, Collision With Fixed Object              498\n",
       "Guide Rail - End, Collision With Fixed Object          434\n",
       "Culver/Head Wall, Collision With Fixed Object          373\n",
       "Other*, Non-Collision                                  329\n",
       "Deer                                                   228\n",
       "Bridge Structure, Collision With Fixed Object          221"
      ]
     },
     "execution_count": 14,
     "metadata": {},
     "output_type": "execute_result"
    }
   ],
   "source": [
    "event_type = pd.DataFrame(vehicle_info['Event Type'].value_counts())\n",
    "event_type.columns = ['Count']\n",
    "event_type"
   ]
  },
  {
   "cell_type": "markdown",
   "metadata": {},
   "source": [
    "# Number of Occupants\n",
    "\n",
    "We will removing rows with greater than 10 occupants."
   ]
  },
  {
   "cell_type": "code",
   "execution_count": 15,
   "metadata": {
    "scrolled": false
   },
   "outputs": [
    {
     "data": {
      "text/html": [
       "<div>\n",
       "<style scoped>\n",
       "    .dataframe tbody tr th:only-of-type {\n",
       "        vertical-align: middle;\n",
       "    }\n",
       "\n",
       "    .dataframe tbody tr th {\n",
       "        vertical-align: top;\n",
       "    }\n",
       "\n",
       "    .dataframe thead th {\n",
       "        text-align: right;\n",
       "    }\n",
       "</style>\n",
       "<table border=\"1\" class=\"dataframe\">\n",
       "  <thead>\n",
       "    <tr style=\"text-align: right;\">\n",
       "      <th></th>\n",
       "      <th>Count</th>\n",
       "    </tr>\n",
       "  </thead>\n",
       "  <tbody>\n",
       "    <tr>\n",
       "      <th>1.0</th>\n",
       "      <td>669782</td>\n",
       "    </tr>\n",
       "    <tr>\n",
       "      <th>2.0</th>\n",
       "      <td>157700</td>\n",
       "    </tr>\n",
       "    <tr>\n",
       "      <th>3.0</th>\n",
       "      <td>44384</td>\n",
       "    </tr>\n",
       "    <tr>\n",
       "      <th>0.0</th>\n",
       "      <td>37230</td>\n",
       "    </tr>\n",
       "    <tr>\n",
       "      <th>4.0</th>\n",
       "      <td>18789</td>\n",
       "    </tr>\n",
       "    <tr>\n",
       "      <th>5.0</th>\n",
       "      <td>6726</td>\n",
       "    </tr>\n",
       "    <tr>\n",
       "      <th>6.0</th>\n",
       "      <td>1944</td>\n",
       "    </tr>\n",
       "    <tr>\n",
       "      <th>7.0</th>\n",
       "      <td>810</td>\n",
       "    </tr>\n",
       "    <tr>\n",
       "      <th>8.0</th>\n",
       "      <td>364</td>\n",
       "    </tr>\n",
       "    <tr>\n",
       "      <th>9.0</th>\n",
       "      <td>213</td>\n",
       "    </tr>\n",
       "    <tr>\n",
       "      <th>10.0</th>\n",
       "      <td>210</td>\n",
       "    </tr>\n",
       "  </tbody>\n",
       "</table>\n",
       "</div>"
      ],
      "text/plain": [
       "       Count\n",
       "1.0   669782\n",
       "2.0   157700\n",
       "3.0    44384\n",
       "0.0    37230\n",
       "4.0    18789\n",
       "5.0     6726\n",
       "6.0     1944\n",
       "7.0      810\n",
       "8.0      364\n",
       "9.0      213\n",
       "10.0     210"
      ]
     },
     "execution_count": 15,
     "metadata": {},
     "output_type": "execute_result"
    }
   ],
   "source": [
    "vehicle_info = vehicle_info[vehicle_info['Number of Occupants'] <= 10]\n",
    "num_occupants = pd.DataFrame(vehicle_info['Number of Occupants'].value_counts())\n",
    "num_occupants.columns = ['Count']\n",
    "num_occupants"
   ]
  },
  {
   "cell_type": "markdown",
   "metadata": {},
   "source": [
    "# Action Prior to Accident\n",
    "\n",
    "\n",
    "We will be removing the following rows with entries:\n",
    "* Unknown\n",
    "* Not Applicable\n",
    "* Other\n",
    "* Not Entered"
   ]
  },
  {
   "cell_type": "code",
   "execution_count": 16,
   "metadata": {},
   "outputs": [],
   "source": [
    "vehicle_info = vehicle_info[vehicle_info['Action Prior to Accident'] != 'Unknown']\n",
    "vehicle_info = vehicle_info[vehicle_info['Action Prior to Accident'] != 'Other']\n",
    "vehicle_info = vehicle_info[vehicle_info['Action Prior to Accident'] != 'Not Entered']\n",
    "vehicle_info = vehicle_info[vehicle_info['Action Prior to Accident'] != 'Not Applicable']"
   ]
  },
  {
   "cell_type": "code",
   "execution_count": 17,
   "metadata": {},
   "outputs": [
    {
     "data": {
      "text/html": [
       "<div>\n",
       "<style scoped>\n",
       "    .dataframe tbody tr th:only-of-type {\n",
       "        vertical-align: middle;\n",
       "    }\n",
       "\n",
       "    .dataframe tbody tr th {\n",
       "        vertical-align: top;\n",
       "    }\n",
       "\n",
       "    .dataframe thead th {\n",
       "        text-align: right;\n",
       "    }\n",
       "</style>\n",
       "<table border=\"1\" class=\"dataframe\">\n",
       "  <thead>\n",
       "    <tr style=\"text-align: right;\">\n",
       "      <th></th>\n",
       "      <th>Count</th>\n",
       "    </tr>\n",
       "  </thead>\n",
       "  <tbody>\n",
       "    <tr>\n",
       "      <th>Going Straight Ahead</th>\n",
       "      <td>471456</td>\n",
       "    </tr>\n",
       "    <tr>\n",
       "      <th>Stopped in Traffic</th>\n",
       "      <td>85327</td>\n",
       "    </tr>\n",
       "    <tr>\n",
       "      <th>Slowing or Stopping</th>\n",
       "      <td>77364</td>\n",
       "    </tr>\n",
       "    <tr>\n",
       "      <th>Making Left Turn</th>\n",
       "      <td>77343</td>\n",
       "    </tr>\n",
       "    <tr>\n",
       "      <th>Parked</th>\n",
       "      <td>44302</td>\n",
       "    </tr>\n",
       "    <tr>\n",
       "      <th>Making Right Turn</th>\n",
       "      <td>32195</td>\n",
       "    </tr>\n",
       "    <tr>\n",
       "      <th>Backing</th>\n",
       "      <td>29689</td>\n",
       "    </tr>\n",
       "    <tr>\n",
       "      <th>Changing Lanes</th>\n",
       "      <td>22137</td>\n",
       "    </tr>\n",
       "    <tr>\n",
       "      <th>Starting in Traffic</th>\n",
       "      <td>14745</td>\n",
       "    </tr>\n",
       "    <tr>\n",
       "      <th>Merging</th>\n",
       "      <td>7415</td>\n",
       "    </tr>\n",
       "    <tr>\n",
       "      <th>Overtaking/Passing</th>\n",
       "      <td>6678</td>\n",
       "    </tr>\n",
       "    <tr>\n",
       "      <th>Starting from Parking</th>\n",
       "      <td>6116</td>\n",
       "    </tr>\n",
       "    <tr>\n",
       "      <th>Making U Turn</th>\n",
       "      <td>4758</td>\n",
       "    </tr>\n",
       "    <tr>\n",
       "      <th>Entering Parked Position</th>\n",
       "      <td>4092</td>\n",
       "    </tr>\n",
       "    <tr>\n",
       "      <th>Avoiding Object in Roadway</th>\n",
       "      <td>3284</td>\n",
       "    </tr>\n",
       "    <tr>\n",
       "      <th>Making Right Turn on Red</th>\n",
       "      <td>488</td>\n",
       "    </tr>\n",
       "    <tr>\n",
       "      <th>Police Pursuit</th>\n",
       "      <td>333</td>\n",
       "    </tr>\n",
       "    <tr>\n",
       "      <th>Making Left Turn on Red</th>\n",
       "      <td>231</td>\n",
       "    </tr>\n",
       "  </tbody>\n",
       "</table>\n",
       "</div>"
      ],
      "text/plain": [
       "                             Count\n",
       "Going Straight Ahead        471456\n",
       "Stopped in Traffic           85327\n",
       "Slowing or Stopping          77364\n",
       "Making Left Turn             77343\n",
       "Parked                       44302\n",
       "Making Right Turn            32195\n",
       "Backing                      29689\n",
       "Changing Lanes               22137\n",
       "Starting in Traffic          14745\n",
       "Merging                       7415\n",
       "Overtaking/Passing            6678\n",
       "Starting from Parking         6116\n",
       "Making U Turn                 4758\n",
       "Entering Parked Position      4092\n",
       "Avoiding Object in Roadway    3284\n",
       "Making Right Turn on Red       488\n",
       "Police Pursuit                 333\n",
       "Making Left Turn on Red        231"
      ]
     },
     "execution_count": 17,
     "metadata": {},
     "output_type": "execute_result"
    }
   ],
   "source": [
    "prior_action = pd.DataFrame(vehicle_info['Action Prior to Accident'].value_counts())\n",
    "prior_action.columns = ['Count']\n",
    "prior_action"
   ]
  },
  {
   "cell_type": "markdown",
   "metadata": {},
   "source": [
    "# Year in Which Accidents Occurred"
   ]
  },
  {
   "cell_type": "code",
   "execution_count": 18,
   "metadata": {
    "scrolled": true
   },
   "outputs": [
    {
     "data": {
      "text/html": [
       "<div>\n",
       "<style scoped>\n",
       "    .dataframe tbody tr th:only-of-type {\n",
       "        vertical-align: middle;\n",
       "    }\n",
       "\n",
       "    .dataframe tbody tr th {\n",
       "        vertical-align: top;\n",
       "    }\n",
       "\n",
       "    .dataframe thead th {\n",
       "        text-align: right;\n",
       "    }\n",
       "</style>\n",
       "<table border=\"1\" class=\"dataframe\">\n",
       "  <thead>\n",
       "    <tr style=\"text-align: right;\">\n",
       "      <th></th>\n",
       "      <th>Count</th>\n",
       "    </tr>\n",
       "  </thead>\n",
       "  <tbody>\n",
       "    <tr>\n",
       "      <th>2016</th>\n",
       "      <td>301908</td>\n",
       "    </tr>\n",
       "    <tr>\n",
       "      <th>2014</th>\n",
       "      <td>299452</td>\n",
       "    </tr>\n",
       "    <tr>\n",
       "      <th>2015</th>\n",
       "      <td>294556</td>\n",
       "    </tr>\n",
       "  </tbody>\n",
       "</table>\n",
       "</div>"
      ],
      "text/plain": [
       "       Count\n",
       "2016  301908\n",
       "2014  299452\n",
       "2015  294556"
      ]
     },
     "execution_count": 18,
     "metadata": {},
     "output_type": "execute_result"
    }
   ],
   "source": [
    "accident_year2 = pd.DataFrame(case_info['Year'].value_counts())\n",
    "accident_year2.columns = ['Count']\n",
    "accident_year2"
   ]
  },
  {
   "cell_type": "markdown",
   "metadata": {},
   "source": [
    "# Day of Week"
   ]
  },
  {
   "cell_type": "code",
   "execution_count": 19,
   "metadata": {
    "scrolled": true
   },
   "outputs": [
    {
     "data": {
      "text/html": [
       "<div>\n",
       "<style scoped>\n",
       "    .dataframe tbody tr th:only-of-type {\n",
       "        vertical-align: middle;\n",
       "    }\n",
       "\n",
       "    .dataframe tbody tr th {\n",
       "        vertical-align: top;\n",
       "    }\n",
       "\n",
       "    .dataframe thead th {\n",
       "        text-align: right;\n",
       "    }\n",
       "</style>\n",
       "<table border=\"1\" class=\"dataframe\">\n",
       "  <thead>\n",
       "    <tr style=\"text-align: right;\">\n",
       "      <th></th>\n",
       "      <th>Count</th>\n",
       "    </tr>\n",
       "  </thead>\n",
       "  <tbody>\n",
       "    <tr>\n",
       "      <th>Friday</th>\n",
       "      <td>147681</td>\n",
       "    </tr>\n",
       "    <tr>\n",
       "      <th>Thursday</th>\n",
       "      <td>135332</td>\n",
       "    </tr>\n",
       "    <tr>\n",
       "      <th>Wednesday</th>\n",
       "      <td>132954</td>\n",
       "    </tr>\n",
       "    <tr>\n",
       "      <th>Tuesday</th>\n",
       "      <td>131951</td>\n",
       "    </tr>\n",
       "    <tr>\n",
       "      <th>Monday</th>\n",
       "      <td>128593</td>\n",
       "    </tr>\n",
       "    <tr>\n",
       "      <th>Saturday</th>\n",
       "      <td>118697</td>\n",
       "    </tr>\n",
       "    <tr>\n",
       "      <th>Sunday</th>\n",
       "      <td>100708</td>\n",
       "    </tr>\n",
       "  </tbody>\n",
       "</table>\n",
       "</div>"
      ],
      "text/plain": [
       "            Count\n",
       "Friday     147681\n",
       "Thursday   135332\n",
       "Wednesday  132954\n",
       "Tuesday    131951\n",
       "Monday     128593\n",
       "Saturday   118697\n",
       "Sunday     100708"
      ]
     },
     "execution_count": 19,
     "metadata": {},
     "output_type": "execute_result"
    }
   ],
   "source": [
    "day_week = pd.DataFrame(case_info['Day of Week'].value_counts())\n",
    "day_week.columns = ['Count']\n",
    "day_week"
   ]
  },
  {
   "cell_type": "markdown",
   "metadata": {},
   "source": [
    "# Lighting Conditions\n",
    "\n",
    "Removing Unknown values."
   ]
  },
  {
   "cell_type": "code",
   "execution_count": 20,
   "metadata": {},
   "outputs": [],
   "source": [
    "case_info = case_info[case_info['Lighting Conditions'] != 'Unknown']"
   ]
  },
  {
   "cell_type": "code",
   "execution_count": 21,
   "metadata": {},
   "outputs": [
    {
     "data": {
      "text/html": [
       "<div>\n",
       "<style scoped>\n",
       "    .dataframe tbody tr th:only-of-type {\n",
       "        vertical-align: middle;\n",
       "    }\n",
       "\n",
       "    .dataframe tbody tr th {\n",
       "        vertical-align: top;\n",
       "    }\n",
       "\n",
       "    .dataframe thead th {\n",
       "        text-align: right;\n",
       "    }\n",
       "</style>\n",
       "<table border=\"1\" class=\"dataframe\">\n",
       "  <thead>\n",
       "    <tr style=\"text-align: right;\">\n",
       "      <th></th>\n",
       "      <th>Count</th>\n",
       "    </tr>\n",
       "  </thead>\n",
       "  <tbody>\n",
       "    <tr>\n",
       "      <th>Daylight</th>\n",
       "      <td>547758</td>\n",
       "    </tr>\n",
       "    <tr>\n",
       "      <th>Dark-Road Lighted</th>\n",
       "      <td>149508</td>\n",
       "    </tr>\n",
       "    <tr>\n",
       "      <th>Dark-Road Unlighted</th>\n",
       "      <td>86721</td>\n",
       "    </tr>\n",
       "    <tr>\n",
       "      <th>Dusk</th>\n",
       "      <td>26051</td>\n",
       "    </tr>\n",
       "    <tr>\n",
       "      <th>Dawn</th>\n",
       "      <td>18177</td>\n",
       "    </tr>\n",
       "  </tbody>\n",
       "</table>\n",
       "</div>"
      ],
      "text/plain": [
       "                      Count\n",
       "Daylight             547758\n",
       "Dark-Road Lighted    149508\n",
       "Dark-Road Unlighted   86721\n",
       "Dusk                  26051\n",
       "Dawn                  18177"
      ]
     },
     "execution_count": 21,
     "metadata": {},
     "output_type": "execute_result"
    }
   ],
   "source": [
    "light_conditions = pd.DataFrame(case_info['Lighting Conditions'].value_counts())\n",
    "light_conditions.columns = ['Count']\n",
    "light_conditions"
   ]
  },
  {
   "cell_type": "markdown",
   "metadata": {},
   "source": [
    "# Traffic Control Device\n",
    "\n",
    "Removing row entries with \"Other\", \"Not Applicable\", \"Unknown\"."
   ]
  },
  {
   "cell_type": "code",
   "execution_count": 22,
   "metadata": {},
   "outputs": [],
   "source": [
    "case_info = case_info[case_info['Traffic Control Device'] != 'Other']\n",
    "case_info = case_info[case_info['Traffic Control Device'] != 'Not Applicable']\n",
    "case_info = case_info[case_info['Traffic Control Device'] != 'Unknown']"
   ]
  },
  {
   "cell_type": "code",
   "execution_count": 23,
   "metadata": {},
   "outputs": [
    {
     "data": {
      "text/html": [
       "<div>\n",
       "<style scoped>\n",
       "    .dataframe tbody tr th:only-of-type {\n",
       "        vertical-align: middle;\n",
       "    }\n",
       "\n",
       "    .dataframe tbody tr th {\n",
       "        vertical-align: top;\n",
       "    }\n",
       "\n",
       "    .dataframe thead th {\n",
       "        text-align: right;\n",
       "    }\n",
       "</style>\n",
       "<table border=\"1\" class=\"dataframe\">\n",
       "  <thead>\n",
       "    <tr style=\"text-align: right;\">\n",
       "      <th></th>\n",
       "      <th>Count</th>\n",
       "    </tr>\n",
       "  </thead>\n",
       "  <tbody>\n",
       "    <tr>\n",
       "      <th>None</th>\n",
       "      <td>471937</td>\n",
       "    </tr>\n",
       "    <tr>\n",
       "      <th>Traffic Signal</th>\n",
       "      <td>186145</td>\n",
       "    </tr>\n",
       "    <tr>\n",
       "      <th>Stop Sign</th>\n",
       "      <td>73810</td>\n",
       "    </tr>\n",
       "    <tr>\n",
       "      <th>No Passing Zone</th>\n",
       "      <td>54428</td>\n",
       "    </tr>\n",
       "    <tr>\n",
       "      <th>Yield Sign</th>\n",
       "      <td>6945</td>\n",
       "    </tr>\n",
       "    <tr>\n",
       "      <th>Construction Work Area</th>\n",
       "      <td>3221</td>\n",
       "    </tr>\n",
       "    <tr>\n",
       "      <th>Flashing Light</th>\n",
       "      <td>2105</td>\n",
       "    </tr>\n",
       "    <tr>\n",
       "      <th>RR Crossing Gates</th>\n",
       "      <td>842</td>\n",
       "    </tr>\n",
       "    <tr>\n",
       "      <th>Police/Fire Emergency</th>\n",
       "      <td>673</td>\n",
       "    </tr>\n",
       "    <tr>\n",
       "      <th>Stopped School Bus-Red Lights Flashing</th>\n",
       "      <td>573</td>\n",
       "    </tr>\n",
       "  </tbody>\n",
       "</table>\n",
       "</div>"
      ],
      "text/plain": [
       "                                         Count\n",
       "None                                    471937\n",
       "Traffic Signal                          186145\n",
       "Stop Sign                                73810\n",
       "No Passing Zone                          54428\n",
       "Yield Sign                                6945\n",
       "Construction Work Area                    3221\n",
       "Flashing Light                            2105\n",
       "RR Crossing Gates                          842\n",
       "Police/Fire Emergency                      673\n",
       "Stopped School Bus-Red Lights Flashing     573"
      ]
     },
     "execution_count": 23,
     "metadata": {},
     "output_type": "execute_result"
    }
   ],
   "source": [
    "traffic_control = pd.DataFrame(case_info['Traffic Control Device'].value_counts())\n",
    "traffic_control.columns = ['Count']\n",
    "traffic_control.head(10)"
   ]
  },
  {
   "cell_type": "markdown",
   "metadata": {},
   "source": [
    "# Road Surface Conditions\n",
    "\n",
    "Removing Other and unknown row entries."
   ]
  },
  {
   "cell_type": "code",
   "execution_count": 24,
   "metadata": {},
   "outputs": [],
   "source": [
    "case_info = case_info[case_info['Road Surface Conditions'] != 'Other']\n",
    "case_info = case_info[case_info['Road Surface Conditions'] != 'Unknown']"
   ]
  },
  {
   "cell_type": "code",
   "execution_count": 25,
   "metadata": {},
   "outputs": [
    {
     "data": {
      "text/html": [
       "<div>\n",
       "<style scoped>\n",
       "    .dataframe tbody tr th:only-of-type {\n",
       "        vertical-align: middle;\n",
       "    }\n",
       "\n",
       "    .dataframe tbody tr th {\n",
       "        vertical-align: top;\n",
       "    }\n",
       "\n",
       "    .dataframe thead th {\n",
       "        text-align: right;\n",
       "    }\n",
       "</style>\n",
       "<table border=\"1\" class=\"dataframe\">\n",
       "  <thead>\n",
       "    <tr style=\"text-align: right;\">\n",
       "      <th></th>\n",
       "      <th>Count</th>\n",
       "    </tr>\n",
       "  </thead>\n",
       "  <tbody>\n",
       "    <tr>\n",
       "      <th>Dry</th>\n",
       "      <td>595164</td>\n",
       "    </tr>\n",
       "    <tr>\n",
       "      <th>Wet</th>\n",
       "      <td>125462</td>\n",
       "    </tr>\n",
       "    <tr>\n",
       "      <th>Snow/Ice</th>\n",
       "      <td>73577</td>\n",
       "    </tr>\n",
       "    <tr>\n",
       "      <th>Slush</th>\n",
       "      <td>4639</td>\n",
       "    </tr>\n",
       "    <tr>\n",
       "      <th>Muddy</th>\n",
       "      <td>462</td>\n",
       "    </tr>\n",
       "    <tr>\n",
       "      <th>Flooded Water</th>\n",
       "      <td>252</td>\n",
       "    </tr>\n",
       "  </tbody>\n",
       "</table>\n",
       "</div>"
      ],
      "text/plain": [
       "                Count\n",
       "Dry            595164\n",
       "Wet            125462\n",
       "Snow/Ice        73577\n",
       "Slush            4639\n",
       "Muddy             462\n",
       "Flooded Water     252"
      ]
     },
     "execution_count": 25,
     "metadata": {},
     "output_type": "execute_result"
    }
   ],
   "source": [
    "road_conditions = pd.DataFrame(case_info['Road Surface Conditions'].value_counts())\n",
    "road_conditions.columns = ['Count']\n",
    "road_conditions"
   ]
  },
  {
   "cell_type": "markdown",
   "metadata": {},
   "source": [
    "## Weather Conditions"
   ]
  },
  {
   "cell_type": "code",
   "execution_count": 26,
   "metadata": {},
   "outputs": [
    {
     "data": {
      "text/html": [
       "<div>\n",
       "<style scoped>\n",
       "    .dataframe tbody tr th:only-of-type {\n",
       "        vertical-align: middle;\n",
       "    }\n",
       "\n",
       "    .dataframe tbody tr th {\n",
       "        vertical-align: top;\n",
       "    }\n",
       "\n",
       "    .dataframe thead th {\n",
       "        text-align: right;\n",
       "    }\n",
       "</style>\n",
       "<table border=\"1\" class=\"dataframe\">\n",
       "  <thead>\n",
       "    <tr style=\"text-align: right;\">\n",
       "      <th></th>\n",
       "      <th>Count</th>\n",
       "    </tr>\n",
       "  </thead>\n",
       "  <tbody>\n",
       "    <tr>\n",
       "      <th>Clear</th>\n",
       "      <td>481875</td>\n",
       "    </tr>\n",
       "    <tr>\n",
       "      <th>Cloudy</th>\n",
       "      <td>187477</td>\n",
       "    </tr>\n",
       "    <tr>\n",
       "      <th>Rain</th>\n",
       "      <td>71636</td>\n",
       "    </tr>\n",
       "    <tr>\n",
       "      <th>Snow</th>\n",
       "      <td>46532</td>\n",
       "    </tr>\n",
       "    <tr>\n",
       "      <th>Sleet/Hail/Freezing Rain</th>\n",
       "      <td>7553</td>\n",
       "    </tr>\n",
       "    <tr>\n",
       "      <th>Fog/Smog/Smoke</th>\n",
       "      <td>2656</td>\n",
       "    </tr>\n",
       "  </tbody>\n",
       "</table>\n",
       "</div>"
      ],
      "text/plain": [
       "                           Count\n",
       "Clear                     481875\n",
       "Cloudy                    187477\n",
       "Rain                       71636\n",
       "Snow                       46532\n",
       "Sleet/Hail/Freezing Rain    7553\n",
       "Fog/Smog/Smoke              2656"
      ]
     },
     "execution_count": 26,
     "metadata": {},
     "output_type": "execute_result"
    }
   ],
   "source": [
    "case_info = case_info[case_info['Weather Conditions'] != 'Unknown']\n",
    "case_info = case_info[case_info['Weather Conditions'] != 'Other*']\n",
    "weather_conditions = pd.DataFrame(case_info['Weather Conditions'].value_counts())\n",
    "weather_conditions.columns = ['Count']\n",
    "weather_conditions"
   ]
  },
  {
   "cell_type": "markdown",
   "metadata": {},
   "source": [
    "# Extracting Time\n",
    "\n",
    "We will create a function that extracts the hour part of the Time entries. Then call the apply() function to create a new column 'TimeInt' which would allow us to create a histogram."
   ]
  },
  {
   "cell_type": "code",
   "execution_count": 27,
   "metadata": {},
   "outputs": [
    {
     "name": "stdout",
     "output_type": "stream",
     "text": [
      "23.0\n",
      "3.5\n",
      "0.5\n"
     ]
    }
   ],
   "source": [
    "def getTime(time):\n",
    "    end = time.find(':')\n",
    "    num_time = float(time[:end])\n",
    "    minute = int(time[end+1:])\n",
    "    if minute >= 30:\n",
    "        num_time += 0.5\n",
    "    return num_time\n",
    "\n",
    "print(getTime('23:12')) ## this refers to 11:12 pm\n",
    "print(getTime('03:34')) ## 3:34 pm\n",
    "print(getTime('00:34')) ## 12:34 am"
   ]
  },
  {
   "cell_type": "markdown",
   "metadata": {},
   "source": [
    "# Data Analysis & Results"
   ]
  },
  {
   "cell_type": "markdown",
   "metadata": {},
   "source": [
    "##### Vehicle Body Types"
   ]
  },
  {
   "cell_type": "code",
   "execution_count": 28,
   "metadata": {
    "scrolled": true
   },
   "outputs": [
    {
     "data": {
      "text/plain": [
       "Text(0, 0.5, 'Vehicle Body Type')"
      ]
     },
     "execution_count": 28,
     "metadata": {},
     "output_type": "execute_result"
    },
    {
     "data": {
      "image/png": "[encoded data removed]",
      "text/plain": [
       "<Figure size 432x288 with 1 Axes>"
      ]
     },
     "metadata": {
      "needs_background": "light"
     },
     "output_type": "display_data"
    }
   ],
   "source": [
    "body_types = pd.DataFrame(vehicle_info['Vehicle Body Type'].value_counts())\n",
    "\n",
    "body_types.columns = ['Count']\n",
    "\n",
    "one_percent = sum(body_types['Count']) * 0.01 # Only include those within 1% of total # of cars...\n",
    "\n",
    "VB = body_types[body_types['Count'] > one_percent].plot.barh(rot=0, width=0.5, color=\"pink\")\n",
    "VB.set_xlabel(\"Number of Accidents\", fontsize = 20)\n",
    "VB.set_ylabel(\"Vehicle Body Type\", fontsize = 20)"
   ]
  },
  {
   "cell_type": "markdown",
   "metadata": {},
   "source": [
    "###### Number of Accidents in Relation with the Vehicle Year"
   ]
  },
  {
   "cell_type": "code",
   "execution_count": 29,
   "metadata": {},
   "outputs": [
    {
     "data": {
      "text/plain": [
       "Text(0, 0.5, 'Number of Accidents')"
      ]
     },
     "execution_count": 29,
     "metadata": {},
     "output_type": "execute_result"
    },
    {
     "data": {
      "image/png": "[encoded data removed]",
      "text/plain": [
       "<Figure size 432x288 with 1 Axes>"
      ]
     },
     "metadata": {
      "needs_background": "light"
     },
     "output_type": "display_data"
    }
   ],
   "source": [
    "VI = vehicle_info['Vehicle Year'].hist(bins=24, color= \"green\")\n",
    "min(vehicle_info['Vehicle Year'])\n",
    "\n",
    "VI.set_xlabel ('Vehicle Year', fontsize = 20)\n",
    "VI.set_ylabel ('Number of Accidents', fontsize = 20)"
   ]
  },
  {
   "cell_type": "markdown",
   "metadata": {},
   "source": [
    "Again the highest rates fall between 2015 to 2019. This is unexpected as newer cars have more safety mechanisms in place. However, this may be another cause of popularity correlation and not due to causation. However, the slight drop in accidents between 2015 to 2017 may be due to the increased safety technology in newer cars."
   ]
  },
  {
   "cell_type": "markdown",
   "metadata": {},
   "source": [
    "Vehicle Make vs. Number of Accidents"
   ]
  },
  {
   "cell_type": "code",
   "execution_count": 30,
   "metadata": {},
   "outputs": [
    {
     "data": {
      "text/plain": [
       "Text(0, 0.5, 'Vehicle Make')"
      ]
     },
     "execution_count": 30,
     "metadata": {},
     "output_type": "execute_result"
    },
    {
     "data": {
      "image/png": "[encoded data removed]",
      "text/plain": [
       "<Figure size 432x288 with 1 Axes>"
      ]
     },
     "metadata": {
      "needs_background": "light"
     },
     "output_type": "display_data"
    }
   ],
   "source": [
    "VM = vehicle_make[vehicle_make['Count'] > 10000].plot.barh(rot=0, width=0.5, color= \"purple\")\n",
    "VM.set_xlabel ('Number of Accidents', fontsize = 20)\n",
    "VM.set_ylabel ('Vehicle Make', fontsize = 20)"
   ]
  },
  {
   "cell_type": "markdown",
   "metadata": {},
   "source": [
    "###### Event Types vs. Number of Accidents"
   ]
  },
  {
   "cell_type": "code",
   "execution_count": 31,
   "metadata": {
    "scrolled": false
   },
   "outputs": [
    {
     "data": {
      "text/plain": [
       "Text(0.5, 0, 'Number of Accidents')"
      ]
     },
     "execution_count": 31,
     "metadata": {},
     "output_type": "execute_result"
    },
    {
     "data": {
      "image/png": "[encoded data removed]",
      "text/plain": [
       "<Figure size 432x288 with 1 Axes>"
      ]
     },
     "metadata": {
      "needs_background": "light"
     },
     "output_type": "display_data"
    }
   ],
   "source": [
    "ET = event_type[event_type['Count'] > 2000].plot.barh(rot=0, width=0.5, color= \"red\")\n",
    "ET.set_xlabel('Number of Accidents', fontsize = 20)"
   ]
  },
  {
   "cell_type": "markdown",
   "metadata": {},
   "source": [
    "###### Relationship between the number of occupants and accidents occurred"
   ]
  },
  {
   "cell_type": "code",
   "execution_count": 32,
   "metadata": {
    "scrolled": false
   },
   "outputs": [
    {
     "data": {
      "text/plain": [
       "Text(0.5, 0, 'Number of Occupants')"
      ]
     },
     "execution_count": 32,
     "metadata": {},
     "output_type": "execute_result"
    },
    {
     "data": {
      "image/png": "[encoded data removed]",
      "text/plain": [
       "<Figure size 432x288 with 1 Axes>"
      ]
     },
     "metadata": {
      "needs_background": "light"
     },
     "output_type": "display_data"
    }
   ],
   "source": [
    "NO = num_occupants.plot.bar(rot=0, width=0.5)\n",
    "NO.set_ylabel('Number of Accidents', fontsize = 20)\n",
    "NO.set_xlabel('Number of Occupants', fontsize = 20)"
   ]
  },
  {
   "cell_type": "markdown",
   "metadata": {},
   "source": [
    "The highest number of accidents are correlated with having 1 passenger in the car. If there are more people in the car, this could seem like it would cause a bigger distraction; however a single passenger would mean sole interaction with the driver.\n",
    "This can also be in part that having another multiple passengers means having more eyes out for hazards in the road. The reason for such a high number of single passenger accidents may be in part that most cars on the road are single passenger drivers. "
   ]
  },
  {
   "cell_type": "markdown",
   "metadata": {},
   "source": [
    "###### Action Prior to Accident vs. Number of Accidents"
   ]
  },
  {
   "cell_type": "code",
   "execution_count": 33,
   "metadata": {},
   "outputs": [
    {
     "data": {
      "text/plain": [
       "Text(0.5, 0, 'Number of Accidents')"
      ]
     },
     "execution_count": 33,
     "metadata": {},
     "output_type": "execute_result"
    },
    {
     "data": {
      "image/png": "[encoded data removed]",
      "text/plain": [
       "<Figure size 432x288 with 1 Axes>"
      ]
     },
     "metadata": {
      "needs_background": "light"
     },
     "output_type": "display_data"
    }
   ],
   "source": [
    "PA = prior_action.plot.barh(rot=0, width=0.5,color= \"black\")\n",
    "PA.set_xlabel('Number of Accidents', fontsize = 20)"
   ]
  },
  {
   "cell_type": "markdown",
   "metadata": {},
   "source": [
    "The highest number of accidents are going straight ahead. Because much of driving consists of driving straight and occasionally turning, this causation is too broad to draw a connection. However, following this is being stopped in traffic, making a left turn, and slowing or stopping. All these occurrences happen at traffic lights and intersections; thus this may be an interesting place to do further diving in to."
   ]
  },
  {
   "cell_type": "markdown",
   "metadata": {},
   "source": [
    "###### Lighting Conditions during Accidents"
   ]
  },
  {
   "cell_type": "code",
   "execution_count": 34,
   "metadata": {},
   "outputs": [
    {
     "data": {
      "text/plain": [
       "Text(0.5, 0, 'Light Condition')"
      ]
     },
     "execution_count": 34,
     "metadata": {},
     "output_type": "execute_result"
    },
    {
     "data": {
      "image/png": "[encoded data removed]",
      "text/plain": [
       "<Figure size 432x288 with 1 Axes>"
      ]
     },
     "metadata": {
      "needs_background": "light"
     },
     "output_type": "display_data"
    }
   ],
   "source": [
    "LC = light_conditions.plot.barh(rot=0, width=0.5, color= 'orange')\n",
    "LC.set_ylabel('Number of Accidents', fontsize = 20)\n",
    "LC.set_xlabel('Light Condition', fontsize = 20)"
   ]
  },
  {
   "cell_type": "markdown",
   "metadata": {},
   "source": [
    "There is a significant difference in the number of car accidents during the daylight in comparison to all other lighting conditions, as there are 547,758 accidents in the daylight. This could be due to the fact that there are probably more people driving their cars during the daylight. Another possibility is, there are more hours of daylight than othere light conditions. "
   ]
  },
  {
   "cell_type": "markdown",
   "metadata": {},
   "source": [
    "###### Day of the Week When Accidents Occurred"
   ]
  },
  {
   "cell_type": "code",
   "execution_count": 35,
   "metadata": {
    "scrolled": true
   },
   "outputs": [
    {
     "data": {
      "text/plain": [
       "<matplotlib.axes._subplots.AxesSubplot at 0x1a25392a58>"
      ]
     },
     "execution_count": 35,
     "metadata": {},
     "output_type": "execute_result"
    },
    {
     "data": {
      "image/png": "[encoded data removed]",
      "text/plain": [
       "<Figure size 432x288 with 1 Axes>"
      ]
     },
     "metadata": {
      "needs_background": "light"
     },
     "output_type": "display_data"
    }
   ],
   "source": [
    "day_week.plot.barh(rot=0, width=0.5, color= \"purple\")"
   ]
  },
  {
   "cell_type": "markdown",
   "metadata": {},
   "source": [
    "This bar graph compares the number of car accidents on each day of the week. Fridays are the end of the work week, so people are most likely leaving for the weekend or going out. Overall, there is not too big of a difference in the number of accidents from day to day, so days of the week is not a major factor in the frequency of traffic accidents."
   ]
  },
  {
   "cell_type": "markdown",
   "metadata": {},
   "source": [
    "##### Number of Accidents Per Year Across 7 Days a Week"
   ]
  },
  {
   "cell_type": "code",
   "execution_count": 36,
   "metadata": {},
   "outputs": [
    {
     "data": {
      "text/plain": [
       "<matplotlib.axes._subplots.AxesSubplot at 0x1a25417940>"
      ]
     },
     "execution_count": 36,
     "metadata": {},
     "output_type": "execute_result"
    },
    {
     "data": {
      "image/png": "[encoded data removed]",
      "text/plain": [
       "<Figure size 576x576 with 1 Axes>"
      ]
     },
     "metadata": {
      "needs_background": "light"
     },
     "output_type": "display_data"
    }
   ],
   "source": [
    "time_table = pd.crosstab(index= case_info[\"Day of Week\"], \n",
    "                              columns= case_info[\"Year\"])\n",
    "time_table.plot(kind=\"bar\", figsize=(8,8),stacked=True)"
   ]
  },
  {
   "cell_type": "markdown",
   "metadata": {},
   "source": [
    "This bar graph shows a visual representation of the number of accidents compared over three years. The numbers are consistent over the years. "
   ]
  },
  {
   "cell_type": "code",
   "execution_count": 37,
   "metadata": {
    "scrolled": false
   },
   "outputs": [
    {
     "data": {
      "text/plain": [
       "Text(0.5, 0, 'Number of Accidents')"
      ]
     },
     "execution_count": 37,
     "metadata": {},
     "output_type": "execute_result"
    },
    {
     "data": {
      "image/png": "[encoded data removed]",
      "text/plain": [
       "<Figure size 432x288 with 1 Axes>"
      ]
     },
     "metadata": {
      "needs_background": "light"
     },
     "output_type": "display_data"
    }
   ],
   "source": [
    "TC = traffic_control.plot.barh(rot=0, width=0.5)\n",
    "TC.set_xlabel('Number of Accidents', fontsize = 20)"
   ]
  },
  {
   "cell_type": "markdown",
   "metadata": {},
   "source": [
    "This bar graph provides a visual representation comparing the traffic control devices involved with car accidents. The largest category is 'None' so we can disregard traffic control signs as a significant contributor to car accidents. "
   ]
  },
  {
   "cell_type": "markdown",
   "metadata": {},
   "source": [
    "###### Road Conditions and the Number of Accidents Occurred"
   ]
  },
  {
   "cell_type": "code",
   "execution_count": 38,
   "metadata": {},
   "outputs": [
    {
     "data": {
      "text/plain": [
       "Text(0, 0.5, 'Road Conditions')"
      ]
     },
     "execution_count": 38,
     "metadata": {},
     "output_type": "execute_result"
    },
    {
     "data": {
      "image/png": "[encoded data removed]",
      "text/plain": [
       "<Figure size 432x288 with 1 Axes>"
      ]
     },
     "metadata": {
      "needs_background": "light"
     },
     "output_type": "display_data"
    }
   ],
   "source": [
    "RC = road_conditions.plot.barh(rot=0, width=0.5, color= \"red\")\n",
    "RC.set_xlabel('Number of Accidents', fontsize = 20)\n",
    "RC.set_ylabel('Road Conditions', fontsize = 20)"
   ]
  },
  {
   "cell_type": "markdown",
   "metadata": {},
   "source": [
    "There is the highest number of car accidents during dry road conditions, which seems unexpected. However, these numbers do not depict the ratio of road conditions throughout the year. If we had that data, we might be able to compare the ratio of car accidents during certain road conditions to the number of days of the year each road condition exists."
   ]
  },
  {
   "cell_type": "code",
   "execution_count": 39,
   "metadata": {
    "scrolled": true
   },
   "outputs": [
    {
     "data": {
      "text/plain": [
       "Text(0, 0.5, 'Number of Accidents')"
      ]
     },
     "execution_count": 39,
     "metadata": {},
     "output_type": "execute_result"
    },
    {
     "data": {
      "image/png": "[encoded data removed]",
      "text/plain": [
       "<Figure size 432x288 with 1 Axes>"
      ]
     },
     "metadata": {
      "needs_background": "light"
     },
     "output_type": "display_data"
    }
   ],
   "source": [
    "case_info['TimeInt'] = case_info['Time'].apply(getTime)\n",
    "ax = case_info['TimeInt'].hist(bins=46, color=\"green\")\n",
    "ax.set_xlabel('Time (24 Hr)', fontsize=20)\n",
    "ax.set_ylabel('Number of Accidents', fontsize=20)\n",
    "##plt.hist(case_info['TimeInt'], bins=24)"
   ]
  },
  {
   "cell_type": "markdown",
   "metadata": {},
   "source": [
    "The number of accidents peaks between 7 am to 8 am and around 5 to 6 pm, this is understandable as these accidents may be caused due to the number of cars on the road coming and leaving office jobs. After 7 pm however, the number of accidents begin to fall, which is unexpected as during this time the lighting conditions get darker and people are more likely to be fatigued. However, the graph does not take into account the amount of drivers on the road, thus we will have to dive deeper to look for a correlation."
   ]
  },
  {
   "cell_type": "markdown",
   "metadata": {},
   "source": [
    "#### Comparing the Time of Day with Lighting Conditions"
   ]
  },
  {
   "cell_type": "code",
   "execution_count": 40,
   "metadata": {},
   "outputs": [
    {
     "data": {
      "image/png": "[encoded data removed]",
      "text/plain": [
       "<Figure size 1152x432 with 1 Axes>"
      ]
     },
     "metadata": {
      "needs_background": "light"
     },
     "output_type": "display_data"
    }
   ],
   "source": [
    "df = pd.DataFrame({'lighting': case_info[\"Lighting Conditions\"], 'time': case_info[\"TimeInt\"]})\n",
    "plt.figure(figsize=(16, 6))\n",
    "sns.set_style(\"whitegrid\")\n",
    "ax = sns.boxplot(x = \"lighting\", y = \"time\", hue = \"lighting\", data = df,palette=\"Set2\")"
   ]
  },
  {
   "cell_type": "markdown",
   "metadata": {},
   "source": [
    "### Comparing Weather Conditions with Lighting Conditions"
   ]
  },
  {
   "cell_type": "code",
   "execution_count": 41,
   "metadata": {},
   "outputs": [
    {
     "data": {
      "text/plain": [
       "<matplotlib.axes._subplots.AxesSubplot at 0x1a28013d68>"
      ]
     },
     "execution_count": 41,
     "metadata": {},
     "output_type": "execute_result"
    },
    {
     "data": {
      "image/png": "[encoded data removed]",
      "text/plain": [
       "<Figure size 576x576 with 1 Axes>"
      ]
     },
     "metadata": {},
     "output_type": "display_data"
    }
   ],
   "source": [
    "grouped = case_info.groupby(['Lighting Conditions','Weather Conditions'])\n",
    "conditions_table = pd.crosstab(index= case_info[\"Lighting Conditions\"], \n",
    "                              columns= case_info[\"Weather Conditions\"])\n",
    "conditions_table.plot(kind=\"bar\", figsize=(8,8),stacked=True)"
   ]
  },
  {
   "cell_type": "code",
   "execution_count": 42,
   "metadata": {},
   "outputs": [
    {
     "data": {
      "image/png": "[encoded data removed]",
      "text/plain": [
       "<Figure size 1440x576 with 1 Axes>"
      ]
     },
     "metadata": {},
     "output_type": "display_data"
    }
   ],
   "source": [
    "df2 = pd.DataFrame({'road surface': case_info[\"Road Surface Conditions\"], 'lighting': case_info[\"Lighting Conditions\"]})\n",
    "plt.figure(figsize=(20, 8))\n",
    "sns.set_style(\"whitegrid\")\n",
    "ax2 = sns.countplot(x= \"lighting\", hue= \"road surface\", data= df2)"
   ]
  },
  {
   "cell_type": "markdown",
   "metadata": {},
   "source": [
    "#### Results\n",
    "\n",
    "The histogram to help us easily visualize the distribution of car accidents during each hour of the day. We can see the highest peak time for accidents occurs around 8 A.M. and 5 P.M. As hypothesized, there are more accidents during rush hour. There is a higher number of accidents at 5 compared to 8 even though these are both rush hour times. This difference could be attributed to the time of the day. At 5 P.M. people are coming home from a days of work, rather than being energized at 8 A.M. when their day has just begun. \n",
    "\n",
    "Furthermore, the lighting conditions of each accident case imply that more accidents occur during the daylight, which the hours from 8 A.M. to 5 P.M. has this type of condition since it is during the day. From our data above, we can see that on days with clear skies, with lighting conditions during the daytime, the frequency of vehicle accidents are a lot greater than other times of the day when the lighting conditions are darker.\n",
    "\n",
    "Road surface conditions, as seen in the graph above, play a factor in the frequency of vehicle accidents during the day. When comparing the lighting conditions against the road surface conditions, we can conclude that on dry road surfaces, cars are more likely to get into an accident in the daylight. A possible explanation for this could be the fact that during this time of the day, there are more cars on the road, which would lead to more traffic congestion. With a greater amount of traffic, vehicles are prone to get into collisions without being careful and watching ahead for the cars to their left, right, front, or back. Moreover, despite road surfaces being dry, more friction is being created across the wheels of the motor vehicles, leading to greater accidents occurring. "
   ]
  },
  {
   "cell_type": "markdown",
   "metadata": {},
   "source": [
    "## Ethics and Privacy\n",
    "* Accessibility:\n",
    "\n",
    "It’s made publicly available so not much considerations need to be in account.\n",
    "Datasets can be downloaded in various formats (CSV, JSON, RDF, XML) \n",
    "\n",
    "* Integrity:\n",
    "\n",
    "We will aim to promote accuracy, honesty, and truthfulness when conducting our research and analysis. In terms of collection bias, we do not see a problem here because the data we are working with does not contain any pre-existing assumptions of certain vehicle makes having more accidents. Furthermore, it has data for all types of cars involved in accidents, so there is no selectivity in our data. \n",
    "\n",
    "* Anonymity: \n",
    "\n",
    "The data set we pull from will be anonymous, with no personal information about the driver or the vehicle license plate number. The datasets found for this project come from a “.gov” website, meaning that any personal identifying information has most likely been removed already.\n"
   ]
  },
  {
   "cell_type": "markdown",
   "metadata": {},
   "source": [
    "# Conclusion "
   ]
  },
  {
   "cell_type": "markdown",
   "metadata": {},
   "source": [
    "In the first half of life, more Americans die from violence and injuries such as motor vehicle crashes, falls, or homicides than from any other cause, including cancer, HIV, or the flu.\n",
    "Car accidents are part of the leading deaths of Americans from ages 1-44 making it a big risk in our society.\n",
    "\n",
    "In our project, we sought out to see the correlation of vehicle accidents in relation to the time of the day as well as taking into considerations other possible factors such as weather. We looked into the busiest time of the day were traffic usually is at its peak. \n",
    "\n",
    "Information we took into consideration from what we had access to, due to the dataset we used are:\n",
    "- vehicle body type\n",
    "- model year\n",
    "- vehicle make\n",
    "- accident type\n",
    "- number of occupants \n",
    "- action prior to the accident \n",
    "- lighting conditions\n",
    "- traffic control device\n",
    "- road surface conditions\n",
    "\n",
    "We analyzed a number of accidents in relation to vehicle year. One would assume that older vehicle types would be more prone to an accident but from graphing the data it is shown that newer (2000's) year models are getting into more accidents. Probably due to the working class having more newer car models. Also, from graphing the data, Toyota models compared to other vehicle makers has the highest number of accidents with Saturn being the least. \n",
    "The highest accident type from the dataset was N/A or not entered. If we remove the N/A we can infer that the next highest accident type was other motor vehicles and collision with them. Which makes if its during traffic hours due to the proximity of cars.\n",
    "Single occupant vehicle drivers were also the most to get into accidents. Which can be tied back to rush hour which are working individuals. This infers that the driver is usually more at fault because there are no passengers disturbing their focus. This can be a result of being on their cell phone etc.\n",
    "The most number of accidents was when the driver was driving straight ahead, possibly due to speeding on long roads due to more freedom of space. Accidents also occurred mostly at day. Likely due to more vehicle traffic and being related to rush hour. The end of the week(Friday) showed more car accidents occurring. Although Monday to Thursday wasn't too far from the number of accidents occurring. This seems to be correlated with people working days and the time of the day when people are finishing their day and rushing home. Friday is the end of the week, it makes sense that people feel more urgency to get home to relax from the work week and because of it, are less impatient and focused and get into more accidents. \n",
    "\n",
    "In conclusion, the time of the day does seem largely correlated with vehicle accidents. The hours were most accidents happened were from 5 P.M. where people are rushing home or trying to get to other places.  Accidents are most likely due to drivers being exhausted from the day or being careless & rushing. \n",
    "\n",
    "\n",
    "All together we can accept our hypothesis of a higher number of accidents during rush hour due to our analysis on our dataset.  During daylight conditions vs. dark road lighted there are almost 6 times as more accidents at daylight than nights with lighted roads. This confirms our hypothesis of rush hour having more accidents due to the traffic of people rushing places from work/school/ etc. The workdays Monday to Friday had the leading number of accidents, ranging from 120,000 - 150,000 accidents. Compared to weekends ranging from 100,000-120,000. Number of accidents since 2014-2016 has been consistent for weekdays having the most accidents compared to weekends.\n",
    " \n",
    "\n"
   ]
  }
 ],
 "metadata": {
  "kernelspec": {
   "display_name": "Python 3",
   "language": "python",
   "name": "python3"
  },
  "language_info": {
   "codemirror_mode": {
    "name": "ipython",
    "version": 3
   },
   "file_extension": ".py",
   "mimetype": "text/x-python",
   "name": "python",
   "nbconvert_exporter": "python",
   "pygments_lexer": "ipython3",
   "version": "3.7.1"
  }
 },
 "nbformat": 4,
 "nbformat_minor": 2
}
